{
 "cells": [
  {
   "cell_type": "code",
   "execution_count": 197,
   "metadata": {},
   "outputs": [],
   "source": [
    "import numpy as np\n",
    "import pandas as pd\n",
    "\n",
    "def novoDia(dia):\n",
    "    return pd.to_datetime(dia, format='%d%m%Y', errors='ignore')\n",
    "\n",
    "def novoAluno(nome, tabela):\n",
    "    novo = [nome]\n",
    "    for i in range(len(tabela.columns) -1 ):\n",
    "        novo.append(0)\n",
    "    return pd.Series(novo, index=tabela.columns)\n",
    "\n",
    "dia = novoDia('29/08/2019')\n",
    "\n",
    "columns = ['Nome', 'Total', dia]\n",
    "chamada = pd.DataFrame(columns = columns)"
   ]
  },
  {
   "cell_type": "code",
   "execution_count": 198,
   "metadata": {},
   "outputs": [],
   "source": [
    "presenca = aluno(\"Andressa Batista\", chamada)\n",
    "chamada = chamada.append(presenca, ignore_index=True)"
   ]
  },
  {
   "cell_type": "code",
   "execution_count": 199,
   "metadata": {},
   "outputs": [],
   "source": [
    "presenca = aluno(\"Andressa Souza\", chamada)\n",
    "chamada = chamada.append(presenca, ignore_index=True) "
   ]
  },
  {
   "cell_type": "code",
   "execution_count": 200,
   "metadata": {},
   "outputs": [],
   "source": [
    "presenca = aluno(\"Mario Gustavo\", chamada)\n",
    "chamada = chamada.append(presenca, ignore_index=True) "
   ]
  },
  {
   "cell_type": "code",
   "execution_count": 201,
   "metadata": {},
   "outputs": [],
   "source": [
    "presenca = aluno(\"Gabriel Henrrique\", chamada)\n",
    "chamada = chamada.append(presenca, ignore_index=True) "
   ]
  },
  {
   "cell_type": "code",
   "execution_count": 202,
   "metadata": {},
   "outputs": [],
   "source": [
    "presenca = aluno(\"Emanuel da Fonseca\", chamada)\n",
    "chamada = chamada.append(presenca, ignore_index=True) "
   ]
  },
  {
   "cell_type": "code",
   "execution_count": 203,
   "metadata": {},
   "outputs": [],
   "source": [
    "presenca = aluno(\"Glauber .G . F\", chamada)\n",
    "chamada = chamada.append(presenca, ignore_index=True) "
   ]
  },
  {
   "cell_type": "code",
   "execution_count": null,
   "metadata": {},
   "outputs": [],
   "source": []
  },
  {
   "cell_type": "code",
   "execution_count": null,
   "metadata": {},
   "outputs": [],
   "source": []
  },
  {
   "cell_type": "code",
   "execution_count": 204,
   "metadata": {},
   "outputs": [],
   "source": [
    "chamada.to_csv('chamada.csv') "
   ]
  },
  {
   "cell_type": "code",
   "execution_count": null,
   "metadata": {},
   "outputs": [],
   "source": []
  }
 ],
 "metadata": {
  "kernelspec": {
   "display_name": "Python 3",
   "language": "python",
   "name": "python3"
  },
  "language_info": {
   "codemirror_mode": {
    "name": "ipython",
    "version": 3
   },
   "file_extension": ".py",
   "mimetype": "text/x-python",
   "name": "python",
   "nbconvert_exporter": "python",
   "pygments_lexer": "ipython3",
   "version": "3.7.4"
  }
 },
 "nbformat": 4,
 "nbformat_minor": 4
}
