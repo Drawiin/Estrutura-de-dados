{
  "nbformat": 4,
  "nbformat_minor": 0,
  "metadata": {
    "colab": {
      "name": "zombies.ipynb",
      "provenance": [],
      "collapsed_sections": [],
      "include_colab_link": true
    },
    "kernelspec": {
      "name": "python3",
      "display_name": "Python 3"
    }
  },
  "cells": [
    {
      "cell_type": "markdown",
      "metadata": {
        "id": "view-in-github",
        "colab_type": "text"
      },
      "source": [
        "<a href=\"https://colab.research.google.com/github/Drawiin/algoritmos-basicos/blob/master/zombies.ipynb\" target=\"_parent\"><img src=\"https://colab.research.google.com/assets/colab-badge.svg\" alt=\"Open In Colab\"/></a>"
      ]
    },
    {
      "cell_type": "code",
      "metadata": {
        "id": "2R9wSBlf9148"
      },
      "source": [
        "import pandas as pd\n",
        "import matplotlib.pyplot as plt"
      ],
      "execution_count": 1,
      "outputs": []
    },
    {
      "cell_type": "code",
      "metadata": {
        "id": "zCOCBMSt_ldO"
      },
      "source": [
        "plt.close('all')\n",
        "data_url = 'https://raw.githubusercontent.com/santanche/lab2learn/f27ae94af758664b254f91731810598d05b2da13/data/zombie/zombie-health/zombie-health-age-pressure-diagnostic.csv'\n",
        "zombies = pd.read_csv(data_url)"
      ],
      "execution_count": 2,
      "outputs": []
    },
    {
      "cell_type": "code",
      "metadata": {
        "id": "GUEek7-p_rkD",
        "outputId": "8437bbc6-5f3e-4214-8247-c17b8666eec3",
        "colab": {
          "base_uri": "https://localhost:8080/",
          "height": 204
        }
      },
      "source": [
        "zombies.head()"
      ],
      "execution_count": 3,
      "outputs": [
        {
          "output_type": "execute_result",
          "data": {
            "text/html": [
              "<div>\n",
              "<style scoped>\n",
              "    .dataframe tbody tr th:only-of-type {\n",
              "        vertical-align: middle;\n",
              "    }\n",
              "\n",
              "    .dataframe tbody tr th {\n",
              "        vertical-align: top;\n",
              "    }\n",
              "\n",
              "    .dataframe thead th {\n",
              "        text-align: right;\n",
              "    }\n",
              "</style>\n",
              "<table border=\"1\" class=\"dataframe\">\n",
              "  <thead>\n",
              "    <tr style=\"text-align: right;\">\n",
              "      <th></th>\n",
              "      <th>age</th>\n",
              "      <th>pressure</th>\n",
              "      <th>diagnostic</th>\n",
              "    </tr>\n",
              "  </thead>\n",
              "  <tbody>\n",
              "    <tr>\n",
              "      <th>0</th>\n",
              "      <td>50</td>\n",
              "      <td>30</td>\n",
              "      <td>bacterial_infection</td>\n",
              "    </tr>\n",
              "    <tr>\n",
              "      <th>1</th>\n",
              "      <td>85</td>\n",
              "      <td>25</td>\n",
              "      <td>bacterial_infection</td>\n",
              "    </tr>\n",
              "    <tr>\n",
              "      <th>2</th>\n",
              "      <td>20</td>\n",
              "      <td>12</td>\n",
              "      <td>bite_deficit</td>\n",
              "    </tr>\n",
              "    <tr>\n",
              "      <th>3</th>\n",
              "      <td>25</td>\n",
              "      <td>10</td>\n",
              "      <td>bite_deficit</td>\n",
              "    </tr>\n",
              "    <tr>\n",
              "      <th>4</th>\n",
              "      <td>28</td>\n",
              "      <td>17</td>\n",
              "      <td>viral_infection</td>\n",
              "    </tr>\n",
              "  </tbody>\n",
              "</table>\n",
              "</div>"
            ],
            "text/plain": [
              "   age  pressure           diagnostic\n",
              "0   50        30  bacterial_infection\n",
              "1   85        25  bacterial_infection\n",
              "2   20        12         bite_deficit\n",
              "3   25        10         bite_deficit\n",
              "4   28        17      viral_infection"
            ]
          },
          "metadata": {
            "tags": []
          },
          "execution_count": 3
        }
      ]
    },
    {
      "cell_type": "code",
      "metadata": {
        "id": "AhoufublC7mL",
        "outputId": "609e557f-1d15-46c5-c354-fbde92204926",
        "colab": {
          "base_uri": "https://localhost:8080/",
          "height": 282
        }
      },
      "source": [
        "zombies['pressure'].sort_values().plot.hist()"
      ],
      "execution_count": 4,
      "outputs": [
        {
          "output_type": "execute_result",
          "data": {
            "text/plain": [
              "<matplotlib.axes._subplots.AxesSubplot at 0x7fa7b6d92128>"
            ]
          },
          "metadata": {
            "tags": []
          },
          "execution_count": 4
        },
        {
          "output_type": "display_data",
          "data": {
            "image/png": "[encoded data removed]",
            "text/plain": [
              "<Figure size 432x288 with 1 Axes>"
            ]
          },
          "metadata": {
            "tags": [],
            "needs_background": "light"
          }
        }
      ]
    },
    {
      "cell_type": "code",
      "metadata": {
        "id": "9nyMWPsOD-rj",
        "outputId": "7a28b686-93de-4a39-a807-6aa2e7ff59da",
        "colab": {
          "base_uri": "https://localhost:8080/",
          "height": 282
        }
      },
      "source": [
        "zombies.describe().plot.barh()"
      ],
      "execution_count": 5,
      "outputs": [
        {
          "output_type": "execute_result",
          "data": {
            "text/plain": [
              "<matplotlib.axes._subplots.AxesSubplot at 0x7fa7b6cffda0>"
            ]
          },
          "metadata": {
            "tags": []
          },
          "execution_count": 5
        },
        {
          "output_type": "display_data",
          "data": {
            "image/png": "[encoded data removed]",
            "text/plain": [
              "<Figure size 432x288 with 1 Axes>"
            ]
          },
          "metadata": {
            "tags": [],
            "needs_background": "light"
          }
        }
      ]
    },
    {
      "cell_type": "markdown",
      "metadata": {
        "id": "t6TPSxZ2sapu"
      },
      "source": [
        "#Média\n",
        "Uma medida de centralidade, é o resultado da soma de todas as informações do conjunto dividada pelo número de informações, mesclando os valores mais baixos e mais altos do conjunto de maneira uniforme, calculamos usando):\n",
        "```python\n",
        "zombies['pressure'].mean()\n",
        "```\n",
        "Também pode ser vizualizadas no gráfico ambas as médias de pressões e idade.\n"
      ]
    },
    {
      "cell_type": "code",
      "metadata": {
        "id": "BYpS4gsarsPU",
        "outputId": "92a90593-45ea-431d-9672-e172a4fc5f34",
        "colab": {
          "base_uri": "https://localhost:8080/",
          "height": 299
        }
      },
      "source": [
        "mean = zombies['pressure'].mean()\n",
        "print('Média: ' + str(mean))\n",
        "zombies.mean().plot.barh()"
      ],
      "execution_count": 16,
      "outputs": [
        {
          "output_type": "stream",
          "text": [
            "Média: 24.36842105263158\n"
          ],
          "name": "stdout"
        },
        {
          "output_type": "execute_result",
          "data": {
            "text/plain": [
              "<matplotlib.axes._subplots.AxesSubplot at 0x7fa7b62a2748>"
            ]
          },
          "metadata": {
            "tags": []
          },
          "execution_count": 16
        },
        {
          "output_type": "display_data",
          "data": {
            "image/png": "[encoded data removed]",
            "text/plain": [
              "<Figure size 432x288 with 1 Axes>"
            ]
          },
          "metadata": {
            "tags": [],
            "needs_background": "light"
          }
        }
      ]
    },
    {
      "cell_type": "markdown",
      "metadata": {
        "id": "xP4AYU7Gv7Zv"
      },
      "source": [
        "#Desvio Padrão\n",
        "É a raiz quadrada da variancia, uma medida de dispersão que nos diz, o quanto um conjunto de dados se desviada sua média, sua vantagem em relação a variancia, é que é expresso na mesma medida que os dados, logo abaixo nos calculamos os desvio padrão tanto da pressão como da idade.\n"
      ]
    },
    {
      "cell_type": "code",
      "metadata": {
        "id": "ap_iaGsLwRlJ",
        "outputId": "69f4df56-108e-466e-9fce-2a122fcd4310",
        "colab": {
          "base_uri": "https://localhost:8080/",
          "height": 282
        }
      },
      "source": [
        "zombies.std().plot.barh()"
      ],
      "execution_count": 18,
      "outputs": [
        {
          "output_type": "execute_result",
          "data": {
            "text/plain": [
              "<matplotlib.axes._subplots.AxesSubplot at 0x7fa7b6241898>"
            ]
          },
          "metadata": {
            "tags": []
          },
          "execution_count": 18
        },
        {
          "output_type": "display_data",
          "data": {
            "image/png": "[encoded data removed]",
            "text/plain": [
              "<Figure size 432x288 with 1 Axes>"
            ]
          },
          "metadata": {
            "tags": [],
            "needs_background": "light"
          }
        }
      ]
    },
    {
      "cell_type": "markdown",
      "metadata": {
        "id": "mOQRrcinvK-T"
      },
      "source": [
        "#Variancia\n",
        "É uma medida de desperção, nos mostra o quão distante cada valor do conjunto está do valor central, mas quanto maior ela é, mais os valores estão distantes da média, aqui calculamos tanto os valores para pressão e para idade:\n",
        "```python\n",
        "zombies.var().plot.barh()\n",
        "```"
      ]
    },
    {
      "cell_type": "code",
      "metadata": {
        "id": "-h3byn9KEI9o",
        "outputId": "9d1406ef-b810-43a5-fc28-027d69ac73e8",
        "colab": {
          "base_uri": "https://localhost:8080/",
          "height": 282
        }
      },
      "source": [
        "zombies.var().plot.barh()"
      ],
      "execution_count": 7,
      "outputs": [
        {
          "output_type": "execute_result",
          "data": {
            "text/plain": [
              "<matplotlib.axes._subplots.AxesSubplot at 0x7fa7b67c8c50>"
            ]
          },
          "metadata": {
            "tags": []
          },
          "execution_count": 7
        },
        {
          "output_type": "display_data",
          "data": {
            "image/png": "[encoded data removed]",
            "text/plain": [
              "<Figure size 432x288 with 1 Axes>"
            ]
          },
          "metadata": {
            "tags": [],
            "needs_background": "light"
          }
        }
      ]
    },
    {
      "cell_type": "markdown",
      "metadata": {
        "id": "Xzq1pBq5GRr2"
      },
      "source": [
        "# Covariancia\n",
        "Expressa a relação linear entre duas variaveis, ou seja representa como a variação de uma medida afeta a variação de outra medida, podem ser tantos valores negativos como positivos, ou seja quanto maior uma variavel maior outra, ou quanto maior uma menor outra."
      ]
    },
    {
      "cell_type": "code",
      "metadata": {
        "id": "oo-cRTLPGGvm",
        "outputId": "20a49392-64fd-4471-f4b1-771fc0956b5d",
        "colab": {
          "base_uri": "https://localhost:8080/",
          "height": 282
        }
      },
      "source": [
        "zombies.cov().plot.barh()"
      ],
      "execution_count": 21,
      "outputs": [
        {
          "output_type": "execute_result",
          "data": {
            "text/plain": [
              "<matplotlib.axes._subplots.AxesSubplot at 0x7fa7ae359438>"
            ]
          },
          "metadata": {
            "tags": []
          },
          "execution_count": 21
        },
        {
          "output_type": "display_data",
          "data": {
            "image/png": "[encoded data removed]",
            "text/plain": [
              "<Figure size 432x288 with 1 Axes>"
            ]
          },
          "metadata": {
            "tags": [],
            "needs_background": "light"
          }
        }
      ]
    }
  ]
}